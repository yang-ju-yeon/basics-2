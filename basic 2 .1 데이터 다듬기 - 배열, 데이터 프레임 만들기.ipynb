{
 "cells": [
  {
   "cell_type": "markdown",
   "id": "1bc1ce83",
   "metadata": {},
   "source": [
    "# basic 2 .1 데이터 다듬기 - 배열, 데이터 프레임 만들기"
   ]
  },
  {
   "cell_type": "markdown",
   "id": "7ca51fe1",
   "metadata": {},
   "source": [
    "### 1.1 Numpy : 배열"
   ]
  },
  {
   "cell_type": "code",
   "execution_count": 55,
   "id": "a05fdef7",
   "metadata": {},
   "outputs": [],
   "source": [
    "import numpy as np"
   ]
  },
  {
   "cell_type": "code",
   "execution_count": 56,
   "id": "86d38341",
   "metadata": {},
   "outputs": [
    {
     "name": "stdout",
     "output_type": "stream",
     "text": [
      "[1 2 3 4 5 6 7 8 9]\n",
      "[ 2  4  6  8 10 12 14 16 18]\n"
     ]
    }
   ],
   "source": [
    "# *2 \n",
    "a = np.array([1,2,3,4,5,6,7,8,9])\n",
    "print(a)\n",
    "a = a*2\n",
    "print(a)    "
   ]
  },
  {
   "cell_type": "code",
   "execution_count": 57,
   "id": "576d8632",
   "metadata": {},
   "outputs": [
    {
     "name": "stdout",
     "output_type": "stream",
     "text": [
      "[2 4 6 8]\n"
     ]
    }
   ],
   "source": [
    "# 짝수만 표시\n",
    "a = np.array([1,2,3,4,5,6,7,8,9])\n",
    "print(a[a%2 == 0])"
   ]
  },
  {
   "cell_type": "code",
   "execution_count": 58,
   "id": "1e07afdc",
   "metadata": {},
   "outputs": [
    {
     "name": "stdout",
     "output_type": "stream",
     "text": [
      "[1 3 5 7 9]\n"
     ]
    }
   ],
   "source": [
    "# 홀수만 표시\n",
    "a = np.array([1,2,3,4,5,6,7,8,9])\n",
    "print(a[a%2 != 0])"
   ]
  },
  {
   "cell_type": "code",
   "execution_count": 63,
   "id": "d77cf8b2",
   "metadata": {},
   "outputs": [
    {
     "name": "stdout",
     "output_type": "stream",
     "text": [
      "[1 2 3 4]\n",
      "1\n",
      "(4,)\n",
      "int32\n"
     ]
    }
   ],
   "source": [
    "a = [1,2,3,4]\n",
    "\n",
    "# 배열로 만들기\n",
    "b = np.array(a)\n",
    "print(b)\n",
    "# 차원 확인\n",
    "print(b.ndim)\n",
    "# 형태 확인\n",
    "print(b.shape)\n",
    "# 자료형 확인\n",
    "print(b.dtype)"
   ]
  },
  {
   "cell_type": "code",
   "execution_count": 65,
   "id": "de24c72a",
   "metadata": {},
   "outputs": [
    {
     "name": "stdout",
     "output_type": "stream",
     "text": [
      "[[1. 2. 3. 4.]\n",
      " [5. 6. 7. 8.]]\n",
      "2\n",
      "(2, 4)\n",
      "float64\n"
     ]
    }
   ],
   "source": [
    "# 2차원 배열 만들기\n",
    "a = [1,2,3,4],[5,6,7,8.0]\n",
    "\n",
    "b = np.array(a)\n",
    "print(b)\n",
    "# 차원 확인\n",
    "print(b.ndim)\n",
    "# 형태 확인\n",
    "print(b.shape)\n",
    "# 자료형 확인\n",
    "print(b.dtype)"
   ]
  },
  {
   "cell_type": "markdown",
   "id": "5fd8a250",
   "metadata": {},
   "source": [
    "### 1.2 rashape : 배열의 형태 바꾸기"
   ]
  },
  {
   "cell_type": "code",
   "execution_count": 78,
   "id": "78a95911",
   "metadata": {
    "scrolled": false
   },
   "outputs": [
    {
     "name": "stdout",
     "output_type": "stream",
     "text": [
      "[[1 2 3]\n",
      " [4 5 6]]\n",
      "----------\n",
      "[[1 2]\n",
      " [3 4]\n",
      " [5 6]]\n"
     ]
    }
   ],
   "source": [
    "# 2,3 - > 3,2\n",
    "a = np.array([[1,2,3],\n",
    "             [4,5,6]])\n",
    "\n",
    "print(a)\n",
    "print('-'*10)\n",
    "b = a.reshape(3,2)\n",
    "print(b)"
   ]
  },
  {
   "cell_type": "markdown",
   "id": "b32d1027",
   "metadata": {},
   "source": [
    "### 1.3 배열 인덱싱과 슬라이싱"
   ]
  },
  {
   "cell_type": "code",
   "execution_count": 89,
   "id": "961e25dc",
   "metadata": {},
   "outputs": [
    {
     "name": "stdout",
     "output_type": "stream",
     "text": [
      "2\n",
      "--------------------\n",
      "[[1 2 3]\n",
      " [4 5 6]\n",
      " [7 8 9]]\n"
     ]
    }
   ],
   "source": [
    "# 인덱싱\n",
    "a = np.array([[1,2,3],\n",
    "             [4,5,6],\n",
    "             [7,8,9]])\n",
    "\n",
    "# 첫번째 행, 두번째 열 조회\n",
    "print(a[0,1])\n",
    "print('-'*20)\n",
    "\n",
    "# 첫번째, 두번째, 세번째 행 조회\n",
    "print(a[[0,1,2],:])"
   ]
  },
  {
   "cell_type": "code",
   "execution_count": 93,
   "id": "94d0fca2",
   "metadata": {
    "scrolled": true
   },
   "outputs": [
    {
     "name": "stdout",
     "output_type": "stream",
     "text": [
      "[[1 2 3]\n",
      " [4 5 6]]\n",
      "--------------------\n",
      "[[2 3]\n",
      " [5 6]\n",
      " [8 9]]\n"
     ]
    }
   ],
   "source": [
    "# 슬라이싱\n",
    "a = np.array([[1,2,3],\n",
    "             [4,5,6],\n",
    "             [7,8,9]])\n",
    "\n",
    "# 첫번째 ~ 두번째 행 조회\n",
    "print(a[0:2,:])\n",
    "print('-'*20)\n",
    "\n",
    "# 첫번째 ~ 세번째 행, 두번째 ~ 세번째 열 조회\n",
    "print(a[:3,1:3])"
   ]
  },
  {
   "cell_type": "markdown",
   "id": "d4f755fc",
   "metadata": {},
   "source": [
    "### 1.4 조건 조회"
   ]
  },
  {
   "cell_type": "code",
   "execution_count": 97,
   "id": "bc520741",
   "metadata": {},
   "outputs": [
    {
     "name": "stdout",
     "output_type": "stream",
     "text": [
      "[ 90  96  99 100]\n",
      "--------------------\n",
      "[78 68 78]\n"
     ]
    }
   ],
   "source": [
    "# 조건 조회\n",
    "\n",
    "score = np.array([[78,68,46,78],\n",
    "                   [90,96,99,100]])\n",
    "\n",
    "# 90 이상인 것만 조회\n",
    "print(score[score >= 90])\n",
    "print('-'*20)\n",
    "\n",
    "# 50 이상, 90 미만\n",
    "print(score[(score >=50) & (score < 90)])"
   ]
  },
  {
   "cell_type": "markdown",
   "id": "4d7a738d",
   "metadata": {},
   "source": [
    "### 2. pandas이용한 데이터 프레임"
   ]
  },
  {
   "cell_type": "code",
   "execution_count": 108,
   "id": "8bd2201e",
   "metadata": {},
   "outputs": [
    {
     "name": "stdout",
     "output_type": "stream",
     "text": [
      "   0\n",
      "0  1\n",
      "1  2\n",
      "2  3\n",
      "--------------------------------------------------\n",
      "   0  1  2\n",
      "0  1  2  3\n",
      "1  4  5  6\n",
      "--------------------------------------------------\n",
      "          취  뽀  !\n",
      "22.02.13  1  2  3\n",
      "22.02.14  4  5  6\n",
      "22.02.15  7  8  9\n"
     ]
    }
   ],
   "source": [
    "import pandas as pd\n",
    "\n",
    "# 데이터 프레임 만들기 \n",
    "\n",
    "# 1. 1차원 리스트로 만들기\n",
    "tmp = [1,2,3]\n",
    "\n",
    "df = pd.DataFrame(tmp)\n",
    "print(df)\n",
    "print('-'*50)\n",
    "\n",
    "# 2. 2차원 리스트로 만들기\n",
    "tmp = [[1,2,3],\n",
    "      [4,5,6]]\n",
    "\n",
    "df = pd.DataFrame(tmp)\n",
    "print(df)\n",
    "print('-'*50)\n",
    "\n",
    "# 3. 열 이름, 인덱스 이름 지정\n",
    "tmp = [[1,2,3],\n",
    "      [4,5,6],\n",
    "      [7,8,9]]\n",
    "dates = ['22.02.13','22.02.14','22.02.15']\n",
    "names = ['취','뽀','!']\n",
    "df = pd.DataFrame(tmp, index = dates,columns=names)\n",
    "\n",
    "print(df)"
   ]
  }
 ],
 "metadata": {
  "kernelspec": {
   "display_name": "Python 3",
   "language": "python",
   "name": "python3"
  },
  "language_info": {
   "codemirror_mode": {
    "name": "ipython",
    "version": 3
   },
   "file_extension": ".py",
   "mimetype": "text/x-python",
   "name": "python",
   "nbconvert_exporter": "python",
   "pygments_lexer": "ipython3",
   "version": "3.8.8"
  }
 },
 "nbformat": 4,
 "nbformat_minor": 5
}
